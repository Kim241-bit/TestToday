{
 "cells": [
  {
   "cell_type": "code",
   "execution_count": 1,
   "id": "cafbcc2f-9ada-4116-bc79-292eae3b1987",
   "metadata": {},
   "outputs": [],
   "source": [
    "### Personal details"
   ]
  },
  {
   "cell_type": "code",
   "execution_count": 2,
   "id": "2157bebc-e735-4f9b-a51d-a8abb9bffc08",
   "metadata": {},
   "outputs": [],
   "source": [
    "john = {\n",
    "    \"fullname\": \"Eric Customs\",\n",
    "    \"Age\" : 18,\n",
    "    \"country\" : \"Kenya\",\n",
    "    \"Material status\" : \"Complicated\"\n",
    "}"
   ]
  },
  {
   "cell_type": "code",
   "execution_count": 3,
   "id": "83e61d71-514f-4dc3-8f07-1b8de3a065d9",
   "metadata": {},
   "outputs": [
    {
     "data": {
      "text/plain": [
       "'Eric Customs'"
      ]
     },
     "execution_count": 3,
     "metadata": {},
     "output_type": "execute_result"
    }
   ],
   "source": [
    "john[\"fullname\"]"
   ]
  },
  {
   "cell_type": "code",
   "execution_count": null,
   "id": "79df2b7f-14e9-4a54-b29d-63cc20dd8ba3",
   "metadata": {},
   "outputs": [],
   "source": []
  }
 ],
 "metadata": {
  "kernelspec": {
   "display_name": "Python 3 (ipykernel)",
   "language": "python",
   "name": "python3"
  },
  "language_info": {
   "codemirror_mode": {
    "name": "ipython",
    "version": 3
   },
   "file_extension": ".py",
   "mimetype": "text/x-python",
   "name": "python",
   "nbconvert_exporter": "python",
   "pygments_lexer": "ipython3",
   "version": "3.12.7"
  }
 },
 "nbformat": 4,
 "nbformat_minor": 5
}
